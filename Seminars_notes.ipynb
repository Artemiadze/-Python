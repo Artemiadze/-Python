{
 "cells": [
  {
   "cell_type": "code",
   "execution_count": 8,
   "metadata": {},
   "outputs": [
    {
     "name": "stdout",
     "output_type": "stream",
     "text": [
      "['1', '2', '1']\n",
      "[1, 2, 1]\n",
      "It exists\n",
      "0\n",
      "-1.0\n"
     ]
    }
   ],
   "source": [
    "coef=[]\n",
    "str= input()\n",
    "splitted = str.split()\n",
    "print(splitted)\n",
    "#coef2=[int(x) for x in splitted]\n",
    "\n",
    "for i in splitted:\n",
    "    coef.append(int(i))\n",
    "print(coef)\n",
    "if len(coef) == 3:\n",
    "    print(\"It exists\")\n",
    "    a = coef[0]\n",
    "    b = coef[1]\n",
    "    c = coef[2]\n",
    "    if a == 0:\n",
    "       print(\"Корень посчитать нельзя\")\n",
    "    else:\n",
    "        d = b ** 2 - 4 * a * c\n",
    "        print(d)\n",
    "        if d <0:\n",
    "            print(\"It is impossible\")\n",
    "        if d == 0:\n",
    "            x1 = (b*(-1)- d**0.5)/(2*a)\n",
    "            print(x1)\n",
    "        if d > 0:\n",
    "            x1 = (b*(-1)- d**0.5)/(2*a)\n",
    "            x2 = (b*(-1) + d**0.5)/(2*a)\n",
    "            print(x1, x2)\n",
    "else:\n",
    "    print(\"It does not exist\")"
   ]
  },
  {
   "cell_type": "code",
   "execution_count": 12,
   "metadata": {},
   "outputs": [
    {
     "name": "stdout",
     "output_type": "stream",
     "text": [
      "-1.0 1 2 1\n",
      "-2.0 -1.0 1 3 2\n",
      "-3.0 -1.0 1 4 3\n",
      "-2.0 1 4 4\n",
      "-4.0 -1.0 1 5 4\n",
      "-3.0 -2.0 1 5 6\n",
      "-5.0 -1.0 1 6 5\n",
      "-4.0 -2.0 1 6 8\n",
      "-3.0 1 6 9\n",
      "-6.0 -1.0 1 7 6\n",
      "-5.0 -2.0 1 7 10\n",
      "-7.0 -1.0 1 8 7\n",
      "-8.0 -1.0 1 9 8\n",
      "-9.0 -1.0 1 10 9\n",
      "-1.0 2 4 2\n",
      "-2.0 -1.0 2 6 4\n",
      "-3.0 -1.0 2 8 6\n",
      "-2.0 2 8 8\n",
      "-4.0 -1.0 2 10 8\n",
      "-1.0 3 6 3\n",
      "-2.0 -1.0 3 9 6\n",
      "-1.0 4 8 4\n",
      "-1.0 5 10 5\n"
     ]
    }
   ],
   "source": [
    "for a in range(1,11):\n",
    "    for b in range(1,11):\n",
    "        for c in range(1,11):\n",
    "            d = b ** 2 - 4 * a * c\n",
    "            if d == 0:\n",
    "                x1 = (b*(-1))/(2*a)\n",
    "                if x1 == int(x1):\n",
    "                    print(x1,a,b,c)\n",
    "            if d > 0:\n",
    "                x1 = (b*(-1)- d**0.5)/(2*a)\n",
    "                x2 = (b*(-1) + d**0.5)/(2*a)\n",
    "                if x1 == int(x1) and x2 == int(x2):\n",
    "                    print(x1, x2,a,b,c)"
   ]
  }
 ],
 "metadata": {
  "kernelspec": {
   "display_name": "Python 3",
   "language": "python",
   "name": "python3"
  },
  "language_info": {
   "codemirror_mode": {
    "name": "ipython",
    "version": 3
   },
   "file_extension": ".py",
   "mimetype": "text/x-python",
   "name": "python",
   "nbconvert_exporter": "python",
   "pygments_lexer": "ipython3",
   "version": "3.10.0"
  }
 },
 "nbformat": 4,
 "nbformat_minor": 2
}
